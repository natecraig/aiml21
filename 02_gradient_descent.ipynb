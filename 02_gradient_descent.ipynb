{
 "cells": [
  {
   "cell_type": "markdown",
   "metadata": {},
   "source": [
    "# Gradient Descent\n",
    "\n",
    "BUSMGT 7247"
   ]
  },
  {
   "cell_type": "code",
   "execution_count": 1,
   "metadata": {},
   "outputs": [],
   "source": [
    "import numpy as np\n",
    "import matplotlib.pyplot as plt"
   ]
  },
  {
   "cell_type": "markdown",
   "metadata": {},
   "source": [
    "## Define a Cost Function"
   ]
  },
  {
   "cell_type": "code",
   "execution_count": 13,
   "metadata": {},
   "outputs": [],
   "source": [
    "# def f(x):\n",
    "#     return x**2\n",
    "    \n",
    "# A more complex example\n",
    "#\n",
    "# It helps to reduce the learning rate to 0.0001 for this example\n",
    "#\n",
    "def f(x):\n",
    "     return (x**6 / 30 - x**5 / 20\n",
    "             - x**4 + 3*x + 20)"
   ]
  },
  {
   "cell_type": "markdown",
   "metadata": {},
   "source": [
    "## Algorithm Settings"
   ]
  },
  {
   "cell_type": "code",
   "execution_count": 14,
   "metadata": {},
   "outputs": [],
   "source": [
    "def numerical_derivative(f, x, h):\n",
    "    return (f(x + h) - f(x)) / h"
   ]
  },
  {
   "cell_type": "code",
   "execution_count": 20,
   "metadata": {},
   "outputs": [],
   "source": [
    "start_interval = [-10, 10]\n",
    "\n",
    "# Learning rate\n",
    "lr = 0.001\n",
    "\n",
    "# Amount to perturb the current point when taking a derivative numerically\n",
    "h = 0.00001\n",
    "\n",
    "# Tolerance: stop if the derivative is less than this value\n",
    "tolerance = 0.00001\n",
    "\n",
    "# Max iterations\n",
    "max_iter = 1000"
   ]
  },
  {
   "cell_type": "markdown",
   "metadata": {},
   "source": [
    "## Run Algorithm"
   ]
  },
  {
   "cell_type": "code",
   "execution_count": 21,
   "metadata": {},
   "outputs": [],
   "source": [
    "# Record visited points\n",
    "xs = np.zeros(max_iter)\n",
    "ys = np.zeros(max_iter)\n",
    "derivs = np.zeros(max_iter)\n",
    "\n",
    "# Randomly select starting point\n",
    "xcurr = np.random.uniform(*start_interval)\n",
    "ycurr = f(xcurr)\n",
    "dcurr = numerical_derivative(f, xcurr, h)\n",
    "\n",
    "# Iteration counter\n",
    "iters = np.arange(max_iter)\n",
    "stop_i = max_iter\n",
    "\n",
    "for i in iters:    \n",
    "    # Record current point\n",
    "    xs[i] = xcurr\n",
    "    ys[i] = ycurr\n",
    "    derivs[i] = dcurr\n",
    "    \n",
    "    # Stop if the derivative is below the tolerance\n",
    "    if np.abs(dcurr) < tolerance:\n",
    "        stop_i = i\n",
    "        break\n",
    "    \n",
    "    dcurr = numerical_derivative(f, xcurr, h)\n",
    "    xcurr = xcurr - lr*dcurr\n",
    "    ycurr = f(xcurr)\n",
    "    \n",
    "# Drop iterations not completed due to the tolerance condition\n",
    "iters = iters[:stop_i]\n",
    "xs = xs[:stop_i]\n",
    "ys = ys[:stop_i]\n",
    "derivs = derivs[:stop_i]"
   ]
  },
  {
   "cell_type": "code",
   "execution_count": 22,
   "metadata": {},
   "outputs": [
    {
     "name": "stdout",
     "output_type": "stream",
     "text": [
      "x:               5.1283\n",
      "Final iteration: 77\n"
     ]
    }
   ],
   "source": [
    "# Show final value of x and the stopping iteration\n",
    "print(f'x:               {xcurr:.4f}\\n'\n",
    "      f'Final iteration: {stop_i}')"
   ]
  },
  {
   "cell_type": "markdown",
   "metadata": {},
   "source": [
    "## Plot Results"
   ]
  },
  {
   "cell_type": "code",
   "execution_count": 23,
   "metadata": {},
   "outputs": [
    {
     "data": {
      "image/png": "[encoded data removed]",
      "text/plain": [
       "<Figure size 432x288 with 1 Axes>"
      ]
     },
     "metadata": {
      "needs_background": "light"
     },
     "output_type": "display_data"
    }
   ],
   "source": [
    "# Plot the evolution of ycurr over the iterations\n",
    "plt.plot(iters, ys)\n",
    "plt.show()"
   ]
  },
  {
   "cell_type": "code",
   "execution_count": 24,
   "metadata": {},
   "outputs": [],
   "source": [
    "# Plot the function and the points that the algorithm visits\n",
    "plot_max = 2 * max(np.abs(xs))\n",
    "plot_min = -1 * plot_max\n",
    "plot_step = 0.01\n",
    "plot_range = np.arange(plot_min, plot_max, plot_step)"
   ]
  },
  {
   "cell_type": "code",
   "execution_count": 25,
   "metadata": {},
   "outputs": [
    {
     "data": {
      "image/png": "[encoded data removed]",
      "text/plain": [
       "<Figure size 432x288 with 1 Axes>"
      ]
     },
     "metadata": {
      "needs_background": "light"
     },
     "output_type": "display_data"
    }
   ],
   "source": [
    "plt.plot(plot_range, [f(x) for x in plot_range])\n",
    "plt.scatter(xs, ys, color='red')\n",
    "plt.show()"
   ]
  },
  {
   "cell_type": "markdown",
   "metadata": {},
   "source": [
    "# Exercise\n",
    "Try different cost functions and algorithm settings."
   ]
  },
  {
   "cell_type": "code",
   "execution_count": null,
   "metadata": {},
   "outputs": [],
   "source": []
  }
 ],
 "metadata": {
  "kernelspec": {
   "display_name": "Python 3",
   "language": "python",
   "name": "python3"
  },
  "language_info": {
   "codemirror_mode": {
    "name": "ipython",
    "version": 3
   },
   "file_extension": ".py",
   "mimetype": "text/x-python",
   "name": "python",
   "nbconvert_exporter": "python",
   "pygments_lexer": "ipython3",
   "version": "3.9.1"
  }
 },
 "nbformat": 4,
 "nbformat_minor": 4
}
