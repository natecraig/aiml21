{
 "cells": [
  {
   "cell_type": "markdown",
   "metadata": {},
   "source": [
    "# Principal Component Analysis\n",
    "\n",
    "BUSMGT 7247"
   ]
  },
  {
   "cell_type": "code",
   "execution_count": 1,
   "metadata": {},
   "outputs": [],
   "source": [
    "%matplotlib inline\n",
    "\n",
    "import numpy as np\n",
    "import pandas as pd\n",
    "import matplotlib as mpl\n",
    "import matplotlib.pyplot as plt\n",
    "from mpl_toolkits.mplot3d import Axes3D, proj3d\n",
    "from matplotlib.patches import FancyArrowPatch\n",
    "\n",
    "from sklearn.preprocessing import StandardScaler\n",
    "from sklearn.decomposition import PCA\n",
    "\n",
    "# Options for plots\n",
    "%matplotlib inline\n",
    "mpl.rc('axes', labelsize=14)\n",
    "mpl.rc('xtick', labelsize=12)\n",
    "mpl.rc('ytick', labelsize=12)\n",
    "\n",
    "# Seed the random number generator for reproducible results\n",
    "random_state = 1000\n",
    "np.random.seed(random_state)"
   ]
  },
  {
   "cell_type": "code",
   "execution_count": 2,
   "metadata": {},
   "outputs": [
    {
     "data": {
      "text/html": [
       "<div>\n",
       "<style scoped>\n",
       "    .dataframe tbody tr th:only-of-type {\n",
       "        vertical-align: middle;\n",
       "    }\n",
       "\n",
       "    .dataframe tbody tr th {\n",
       "        vertical-align: top;\n",
       "    }\n",
       "\n",
       "    .dataframe thead th {\n",
       "        text-align: right;\n",
       "    }\n",
       "</style>\n",
       "<table border=\"1\" class=\"dataframe\">\n",
       "  <thead>\n",
       "    <tr style=\"text-align: right;\">\n",
       "      <th></th>\n",
       "      <th>ID</th>\n",
       "      <th>Earnings</th>\n",
       "      <th>WeeksWorked</th>\n",
       "      <th>CumWeeksWorked</th>\n",
       "      <th>Education</th>\n",
       "      <th>IQ</th>\n",
       "      <th>Gender</th>\n",
       "      <th>MSA</th>\n",
       "      <th>Library</th>\n",
       "      <th>Esteem</th>\n",
       "    </tr>\n",
       "  </thead>\n",
       "  <tbody>\n",
       "    <tr>\n",
       "      <th>0</th>\n",
       "      <td>83</td>\n",
       "      <td>0</td>\n",
       "      <td>3</td>\n",
       "      <td>553.0</td>\n",
       "      <td>10</td>\n",
       "      <td>2</td>\n",
       "      <td>Male</td>\n",
       "      <td>Yes</td>\n",
       "      <td>Yes</td>\n",
       "      <td>18</td>\n",
       "    </tr>\n",
       "    <tr>\n",
       "      <th>1</th>\n",
       "      <td>84</td>\n",
       "      <td>0</td>\n",
       "      <td>3</td>\n",
       "      <td>107.0</td>\n",
       "      <td>12</td>\n",
       "      <td>9</td>\n",
       "      <td>Male</td>\n",
       "      <td>Yes</td>\n",
       "      <td>Yes</td>\n",
       "      <td>20</td>\n",
       "    </tr>\n",
       "    <tr>\n",
       "      <th>2</th>\n",
       "      <td>87</td>\n",
       "      <td>11500</td>\n",
       "      <td>5</td>\n",
       "      <td>759.0</td>\n",
       "      <td>12</td>\n",
       "      <td>5</td>\n",
       "      <td>Male</td>\n",
       "      <td>Yes</td>\n",
       "      <td>Yes</td>\n",
       "      <td>22</td>\n",
       "    </tr>\n",
       "    <tr>\n",
       "      <th>3</th>\n",
       "      <td>105</td>\n",
       "      <td>20501</td>\n",
       "      <td>11</td>\n",
       "      <td>979.0</td>\n",
       "      <td>12</td>\n",
       "      <td>84</td>\n",
       "      <td>Female</td>\n",
       "      <td>Yes</td>\n",
       "      <td>Yes</td>\n",
       "      <td>19</td>\n",
       "    </tr>\n",
       "    <tr>\n",
       "      <th>4</th>\n",
       "      <td>178</td>\n",
       "      <td>59000</td>\n",
       "      <td>46</td>\n",
       "      <td>1010.0</td>\n",
       "      <td>16</td>\n",
       "      <td>99</td>\n",
       "      <td>Male</td>\n",
       "      <td>No</td>\n",
       "      <td>Yes</td>\n",
       "      <td>24</td>\n",
       "    </tr>\n",
       "  </tbody>\n",
       "</table>\n",
       "</div>"
      ],
      "text/plain": [
       "    ID  Earnings  WeeksWorked  CumWeeksWorked  Education  IQ  Gender  MSA  \\\n",
       "0   83         0            3           553.0         10   2    Male  Yes   \n",
       "1   84         0            3           107.0         12   9    Male  Yes   \n",
       "2   87     11500            5           759.0         12   5    Male  Yes   \n",
       "3  105     20501           11           979.0         12  84  Female  Yes   \n",
       "4  178     59000           46          1010.0         16  99    Male   No   \n",
       "\n",
       "  Library  Esteem  \n",
       "0     Yes      18  \n",
       "1     Yes      20  \n",
       "2     Yes      22  \n",
       "3     Yes      19  \n",
       "4     Yes      24  "
      ]
     },
     "execution_count": 2,
     "metadata": {},
     "output_type": "execute_result"
    }
   ],
   "source": [
    "# Load NLSY data\n",
    "df = pd.read_csv('data/nlsy.csv')\n",
    "df.head()"
   ]
  },
  {
   "cell_type": "markdown",
   "metadata": {},
   "source": [
    "## PCA of Earnings, WeeksWorked, and CumWeeksWorked"
   ]
  },
  {
   "cell_type": "code",
   "execution_count": 3,
   "metadata": {},
   "outputs": [
    {
     "data": {
      "text/html": [
       "<div>\n",
       "<style scoped>\n",
       "    .dataframe tbody tr th:only-of-type {\n",
       "        vertical-align: middle;\n",
       "    }\n",
       "\n",
       "    .dataframe tbody tr th {\n",
       "        vertical-align: top;\n",
       "    }\n",
       "\n",
       "    .dataframe thead th {\n",
       "        text-align: right;\n",
       "    }\n",
       "</style>\n",
       "<table border=\"1\" class=\"dataframe\">\n",
       "  <thead>\n",
       "    <tr style=\"text-align: right;\">\n",
       "      <th></th>\n",
       "      <th>Earnings</th>\n",
       "      <th>WeeksWorked</th>\n",
       "      <th>CumWeeksWorked</th>\n",
       "    </tr>\n",
       "  </thead>\n",
       "  <tbody>\n",
       "    <tr>\n",
       "      <th>0</th>\n",
       "      <td>0</td>\n",
       "      <td>3</td>\n",
       "      <td>553.0</td>\n",
       "    </tr>\n",
       "    <tr>\n",
       "      <th>1</th>\n",
       "      <td>0</td>\n",
       "      <td>3</td>\n",
       "      <td>107.0</td>\n",
       "    </tr>\n",
       "    <tr>\n",
       "      <th>2</th>\n",
       "      <td>11500</td>\n",
       "      <td>5</td>\n",
       "      <td>759.0</td>\n",
       "    </tr>\n",
       "    <tr>\n",
       "      <th>3</th>\n",
       "      <td>20501</td>\n",
       "      <td>11</td>\n",
       "      <td>979.0</td>\n",
       "    </tr>\n",
       "    <tr>\n",
       "      <th>4</th>\n",
       "      <td>59000</td>\n",
       "      <td>46</td>\n",
       "      <td>1010.0</td>\n",
       "    </tr>\n",
       "  </tbody>\n",
       "</table>\n",
       "</div>"
      ],
      "text/plain": [
       "   Earnings  WeeksWorked  CumWeeksWorked\n",
       "0         0            3           553.0\n",
       "1         0            3           107.0\n",
       "2     11500            5           759.0\n",
       "3     20501           11           979.0\n",
       "4     59000           46          1010.0"
      ]
     },
     "execution_count": 3,
     "metadata": {},
     "output_type": "execute_result"
    }
   ],
   "source": [
    "X = df[['Earnings', 'WeeksWorked', 'CumWeeksWorked']]\n",
    "X[:5]"
   ]
  },
  {
   "cell_type": "code",
   "execution_count": 4,
   "metadata": {},
   "outputs": [
    {
     "data": {
      "text/plain": [
       "array([[-1.35969277, -1.72711477, -0.83501818],\n",
       "       [-1.35969277, -1.72711477, -2.65008139],\n",
       "       [-0.71183039, -1.62599593,  0.0033294 ],\n",
       "       [-0.20475133, -1.32263943,  0.89865206],\n",
       "       [ 1.96412288,  0.44694016,  1.02481116]])"
      ]
     },
     "execution_count": 4,
     "metadata": {},
     "output_type": "execute_result"
    }
   ],
   "source": [
    "# Scale and center the data prior to applying PCA\n",
    "scaler = StandardScaler()\n",
    "X_scale = scaler.fit_transform(X)\n",
    "m, n = X_scale.shape\n",
    "X_scale[:5]"
   ]
  },
  {
   "cell_type": "code",
   "execution_count": 5,
   "metadata": {},
   "outputs": [],
   "source": [
    "# Calculate PCA via SVD\n",
    "U, s, Vt = np.linalg.svd(X_scale, full_matrices=False)"
   ]
  },
  {
   "cell_type": "code",
   "execution_count": 6,
   "metadata": {},
   "outputs": [
    {
     "data": {
      "text/plain": [
       "array([[-1.35969277, -1.72711477, -0.83501818],\n",
       "       [-1.35969277, -1.72711477, -2.65008139],\n",
       "       [-0.71183039, -1.62599593,  0.0033294 ],\n",
       "       ...,\n",
       "       [ 0.88810799,  0.75029666,  0.66261245],\n",
       "       [ 0.2458792 ,  0.75029666,  1.30561691],\n",
       "       [-0.54282282,  0.75029666,  0.43471214]])"
      ]
     },
     "execution_count": 6,
     "metadata": {},
     "output_type": "execute_result"
    }
   ],
   "source": [
    "# Reassemble X_scale\n",
    "np.matmul(np.matmul(U, s * np.identity(n)), Vt)"
   ]
  },
  {
   "cell_type": "code",
   "execution_count": 7,
   "metadata": {},
   "outputs": [
    {
     "data": {
      "text/plain": [
       "0.9999999999999998"
      ]
     },
     "execution_count": 7,
     "metadata": {},
     "output_type": "execute_result"
    }
   ],
   "source": [
    "# The columns of U are unit size\n",
    "np.linalg.norm(U[:, 2])"
   ]
  },
  {
   "cell_type": "code",
   "execution_count": 8,
   "metadata": {},
   "outputs": [
    {
     "data": {
      "text/plain": [
       "array([[50.6985798 ,  0.        ,  0.        ],\n",
       "       [ 0.        , 25.55801214,  0.        ],\n",
       "       [ 0.        ,  0.        , 18.85317007]])"
      ]
     },
     "execution_count": 8,
     "metadata": {},
     "output_type": "execute_result"
    }
   ],
   "source": [
    "# Note that the diagonal elements of Sigma are sorted\n",
    "s * np.identity(n)"
   ]
  },
  {
   "cell_type": "code",
   "execution_count": 9,
   "metadata": {},
   "outputs": [
    {
     "data": {
      "text/plain": [
       "array([0.53206747, 0.59203609, 0.60530776])"
      ]
     },
     "execution_count": 9,
     "metadata": {},
     "output_type": "execute_result"
    }
   ],
   "source": [
    "# Get the first principal component's weights\n",
    "Vt.T[:, 0]"
   ]
  },
  {
   "cell_type": "code",
   "execution_count": 10,
   "metadata": {},
   "outputs": [
    {
     "data": {
      "text/plain": [
       "[-2.2514055383271243, -0.11332419359666304, -0.6687869045930188]"
      ]
     },
     "execution_count": 10,
     "metadata": {},
     "output_type": "execute_result"
    }
   ],
   "source": [
    "# Calculate the transform to the first instance\n",
    "# Note that a transform to 2d will take the first two components\n",
    "[np.dot(Vt[0, :], X_scale[0, :]),\n",
    " np.dot(Vt[1, :], X_scale[0, :]),\n",
    " np.dot(Vt[2, :], X_scale[0, :])]"
   ]
  },
  {
   "cell_type": "code",
   "execution_count": 11,
   "metadata": {},
   "outputs": [
    {
     "data": {
      "text/plain": [
       "array([-2.25140554, -0.11332419, -0.6687869 ])"
      ]
     },
     "execution_count": 11,
     "metadata": {},
     "output_type": "execute_result"
    }
   ],
   "source": [
    "# Calculate the transform for the first instance using\n",
    "# the U and Sigma matrices\n",
    "USigma = np.matmul(U, s * np.identity(n))\n",
    "USigma[0, :]"
   ]
  },
  {
   "cell_type": "code",
   "execution_count": 12,
   "metadata": {},
   "outputs": [
    {
     "data": {
      "text/plain": [
       "array([[ 2.25140554, -0.11332419],\n",
       "       [ 3.35007738,  0.42324761],\n",
       "       [ 1.33937475,  0.13774259],\n",
       "       [ 0.34803073,  0.16189058],\n",
       "       [-1.92997674,  1.14590815]])"
      ]
     },
     "execution_count": 12,
     "metadata": {},
     "output_type": "execute_result"
    }
   ],
   "source": [
    "# Use scikit-learn's PCA functionality\n",
    "pca = PCA(n_components=2)\n",
    "X2D = pca.fit_transform(X_scale)\n",
    "X2D[:5]"
   ]
  },
  {
   "cell_type": "code",
   "execution_count": 13,
   "metadata": {},
   "outputs": [
    {
     "data": {
      "text/plain": [
       "(1193, 3)"
      ]
     },
     "execution_count": 13,
     "metadata": {},
     "output_type": "execute_result"
    }
   ],
   "source": [
    "X_scale.shape"
   ]
  },
  {
   "cell_type": "code",
   "execution_count": 14,
   "metadata": {},
   "outputs": [
    {
     "data": {
      "text/plain": [
       "(1193, 2)"
      ]
     },
     "execution_count": 14,
     "metadata": {},
     "output_type": "execute_result"
    }
   ],
   "source": [
    "X2D.shape"
   ]
  },
  {
   "cell_type": "code",
   "execution_count": 15,
   "metadata": {},
   "outputs": [
    {
     "data": {
      "text/plain": [
       "50.69857979794595"
      ]
     },
     "execution_count": 15,
     "metadata": {},
     "output_type": "execute_result"
    }
   ],
   "source": [
    "np.linalg.norm(X2D[:,0])"
   ]
  },
  {
   "cell_type": "code",
   "execution_count": 16,
   "metadata": {},
   "outputs": [
    {
     "data": {
      "text/plain": [
       "25.558012142263355"
      ]
     },
     "execution_count": 16,
     "metadata": {},
     "output_type": "execute_result"
    }
   ],
   "source": [
    "np.linalg.norm(X2D[:,1])"
   ]
  },
  {
   "cell_type": "code",
   "execution_count": 17,
   "metadata": {},
   "outputs": [
    {
     "data": {
      "text/plain": [
       "array([[-0.53206747, -0.59203609, -0.60530776],\n",
       "       [ 0.84084216, -0.45342293, -0.29562155]])"
      ]
     },
     "execution_count": 17,
     "metadata": {},
     "output_type": "execute_result"
    }
   ],
   "source": [
    "# Get the weights that represent the principal axes in the feature space\n",
    "pca.components_"
   ]
  },
  {
   "cell_type": "code",
   "execution_count": 18,
   "metadata": {},
   "outputs": [
    {
     "data": {
      "text/plain": [
       "[2.2514055383271234, -0.11332419359666332]"
      ]
     },
     "execution_count": 18,
     "metadata": {},
     "output_type": "execute_result"
    }
   ],
   "source": [
    "# Manually calculate the transformation for the first instance\n",
    "# using sklearn's PCA results\n",
    "[np.dot(pca.components_[0], X_scale[0, :]),\n",
    " np.dot(pca.components_[1], X_scale[0, :])]"
   ]
  },
  {
   "cell_type": "code",
   "execution_count": 19,
   "metadata": {},
   "outputs": [
    {
     "name": "stdout",
     "output_type": "stream",
     "text": [
      "-0.0000000000\n"
     ]
    }
   ],
   "source": [
    "# The principal components are orthogonal\n",
    "print(f'{np.dot(X2D[:, 0], X2D[:, 1]):.10f}')"
   ]
  },
  {
   "cell_type": "code",
   "execution_count": 20,
   "metadata": {},
   "outputs": [
    {
     "data": {
      "text/plain": [
       "[2.154523045707203, 0.5475372880671259]"
      ]
     },
     "execution_count": 20,
     "metadata": {},
     "output_type": "execute_result"
    }
   ],
   "source": [
    "# Calculate the variance of the first and second principal components manually\n",
    "[np.var(X2D[:, 0]), np.var(X2D[:, 1])]"
   ]
  },
  {
   "cell_type": "code",
   "execution_count": 21,
   "metadata": {},
   "outputs": [
    {
     "name": "stdout",
     "output_type": "stream",
     "text": [
      "['2.15633', '0.54800']\n"
     ]
    }
   ],
   "source": [
    "# Get the explained amount of variation\n",
    "print([f'{x:.5f}' for x in pca.explained_variance_])"
   ]
  },
  {
   "cell_type": "code",
   "execution_count": 22,
   "metadata": {},
   "outputs": [
    {
     "name": "stdout",
     "output_type": "stream",
     "text": [
      "['0.71817', '0.18251']\n"
     ]
    }
   ],
   "source": [
    "# Get the explained amount of variation in ratio form\n",
    "print([f'{x:.5f}' for x in pca.explained_variance_ratio_])"
   ]
  },
  {
   "cell_type": "code",
   "execution_count": 23,
   "metadata": {},
   "outputs": [
    {
     "name": "stdout",
     "output_type": "stream",
     "text": [
      "0.099\n"
     ]
    }
   ],
   "source": [
    "# Calculate unexplained amount of variation in ratio form\n",
    "print(f'{1 - pca.explained_variance_ratio_.sum():.3f}')"
   ]
  },
  {
   "cell_type": "code",
   "execution_count": 24,
   "metadata": {},
   "outputs": [
    {
     "data": {
      "text/plain": [
       "array([[-1.2931874 , -1.28152954, -1.32929216],\n",
       "       [-1.42658275, -2.17527688, -2.15294894],\n",
       "       [-0.59681795, -0.85541384, -0.85145361],\n",
       "       [-0.04905141, -0.27945165, -0.25852405],\n",
       "       [ 1.99040572,  0.62303485,  0.82947474]])"
      ]
     },
     "execution_count": 24,
     "metadata": {},
     "output_type": "execute_result"
    }
   ],
   "source": [
    "# Recover the 3D representation of the transformed points\n",
    "X3D_inv = pca.inverse_transform(X2D)\n",
    "X3D_inv[:5]"
   ]
  },
  {
   "cell_type": "code",
   "execution_count": 25,
   "metadata": {},
   "outputs": [
    {
     "data": {
      "text/plain": [
       "array([[-0.06650537, -0.44558522,  0.49427398],\n",
       "       [ 0.06688998,  0.44816212, -0.49713245],\n",
       "       [-0.11501244, -0.77058209,  0.85478301],\n",
       "       [-0.15569992, -1.04318778,  1.15717611],\n",
       "       [-0.02628283, -0.17609469,  0.19533642]])"
      ]
     },
     "execution_count": 25,
     "metadata": {},
     "output_type": "execute_result"
    }
   ],
   "source": [
    "# Comparing to the original points\n",
    "# Note that we have lost information\n",
    "(X_scale - X3D_inv)[:5]"
   ]
  },
  {
   "cell_type": "code",
   "execution_count": 26,
   "metadata": {},
   "outputs": [
    {
     "data": {
      "image/png": "[encoded data removed]",
      "text/plain": [
       "<Figure size 864x576 with 1 Axes>"
      ]
     },
     "metadata": {
      "needs_background": "light"
     },
     "output_type": "display_data"
    }
   ],
   "source": [
    "# Plot the projection from three to two dimensions\n",
    "class Arrow3D(FancyArrowPatch):\n",
    "    def __init__(self, xs, ys, zs, *args, **kwargs):\n",
    "        FancyArrowPatch.__init__(self, (0,0), (0,0), *args, **kwargs)\n",
    "        self._verts3d = xs, ys, zs\n",
    "\n",
    "    def draw(self, renderer):\n",
    "        xs3d, ys3d, zs3d = self._verts3d\n",
    "        xs, ys, zs = proj3d.proj_transform(xs3d, ys3d, zs3d, renderer.M)\n",
    "        self.set_positions((xs[0],ys[0]),(xs[1],ys[1]))\n",
    "        FancyArrowPatch.draw(self, renderer)\n",
    "        \n",
    "\n",
    "axes = [-3, 3, -3, 3, -3, 3]\n",
    "\n",
    "x1s = np.linspace(axes[0], axes[1], 10)\n",
    "x2s = np.linspace(axes[2], axes[3], 10)\n",
    "x1, x2 = np.meshgrid(x1s, x2s)\n",
    "\n",
    "C = pca.components_\n",
    "R = C.T.dot(C)\n",
    "z = (R[0, 2] * x1 + R[1, 2] * x2) / (1 - R[2, 2])\n",
    "        \n",
    "fig = plt.figure(figsize=(12, 8))\n",
    "ax = fig.add_subplot(111, projection='3d')\n",
    "\n",
    "X3D_above = X_scale[X_scale[:, 2] > X3D_inv[:, 2]]\n",
    "X3D_below = X_scale[X_scale[:, 2] <= X3D_inv[:, 2]]\n",
    "\n",
    "ax.plot(X3D_below[:, 0], X3D_below[:, 1], X3D_below[:, 2], 'bo', alpha=0.5)\n",
    "\n",
    "ax.plot_surface(x1, x2, z, alpha=0.2, color='k')\n",
    "np.linalg.norm(C, axis=0)\n",
    "ax.add_artist(Arrow3D([0, C[0, 0]],[0, C[0, 1]],[0, C[0, 2]], mutation_scale=15, lw=1, arrowstyle='-|>', color='k'))\n",
    "ax.add_artist(Arrow3D([0, C[1, 0]],[0, C[1, 1]],[0, C[1, 2]], mutation_scale=15, lw=1, arrowstyle='-|>', color='k'))\n",
    "ax.plot([0], [0], [0], \"k.\")\n",
    "\n",
    "for i in range(m):\n",
    "    if X_scale[i, 2] > X3D_inv[i, 2]:\n",
    "        ax.plot([X_scale[i][0], X3D_inv[i][0]], [X_scale[i][1], X3D_inv[i][1]], [X_scale[i][2], X3D_inv[i][2]], 'k-')\n",
    "    else:\n",
    "        ax.plot([X_scale[i][0], X3D_inv[i][0]], [X_scale[i][1], X3D_inv[i][1]], [X_scale[i][2], X3D_inv[i][2]], 'k-', color=\"#505050\")\n",
    "    \n",
    "ax.plot(X3D_inv[:, 0], X3D_inv[:, 1], X3D_inv[:, 2], 'k+')\n",
    "ax.plot(X3D_inv[:, 0], X3D_inv[:, 1], X3D_inv[:, 2], 'k.')\n",
    "ax.plot(X3D_above[:, 0], X3D_above[:, 1], X3D_above[:, 2], 'bo')\n",
    "ax.set_xlabel('Earnings', fontsize=18)\n",
    "ax.set_ylabel('WeeksWorked', fontsize=18)\n",
    "ax.set_zlabel('CumWeeksWorked', fontsize=18)\n",
    "ax.set_xlim(axes[0:2])\n",
    "ax.set_ylim(axes[2:4])\n",
    "ax.set_zlim(axes[4:6])\n",
    "\n",
    "ax.view_init(30, 30)\n",
    "plt.draw()\n",
    "\n",
    "# plt.savefig('PCA.png', dpi=300)\n",
    "plt.show()"
   ]
  },
  {
   "cell_type": "markdown",
   "metadata": {},
   "source": [
    "## Exercise\n",
    "What happens when you apply PCA to the untransformed (i.e., not scaled) data?"
   ]
  },
  {
   "cell_type": "code",
   "execution_count": null,
   "metadata": {},
   "outputs": [],
   "source": []
  },
  {
   "cell_type": "markdown",
   "metadata": {},
   "source": [
    "## PCA of Earnings, WeeksWorked, CumWeeksWorked, IQ, and Esteem"
   ]
  },
  {
   "cell_type": "code",
   "execution_count": 27,
   "metadata": {},
   "outputs": [
    {
     "data": {
      "text/html": [
       "<div>\n",
       "<style scoped>\n",
       "    .dataframe tbody tr th:only-of-type {\n",
       "        vertical-align: middle;\n",
       "    }\n",
       "\n",
       "    .dataframe tbody tr th {\n",
       "        vertical-align: top;\n",
       "    }\n",
       "\n",
       "    .dataframe thead th {\n",
       "        text-align: right;\n",
       "    }\n",
       "</style>\n",
       "<table border=\"1\" class=\"dataframe\">\n",
       "  <thead>\n",
       "    <tr style=\"text-align: right;\">\n",
       "      <th></th>\n",
       "      <th>Earnings</th>\n",
       "      <th>WeeksWorked</th>\n",
       "      <th>CumWeeksWorked</th>\n",
       "      <th>IQ</th>\n",
       "      <th>Esteem</th>\n",
       "    </tr>\n",
       "  </thead>\n",
       "  <tbody>\n",
       "    <tr>\n",
       "      <th>0</th>\n",
       "      <td>0</td>\n",
       "      <td>3</td>\n",
       "      <td>553.0</td>\n",
       "      <td>2</td>\n",
       "      <td>18</td>\n",
       "    </tr>\n",
       "    <tr>\n",
       "      <th>1</th>\n",
       "      <td>0</td>\n",
       "      <td>3</td>\n",
       "      <td>107.0</td>\n",
       "      <td>9</td>\n",
       "      <td>20</td>\n",
       "    </tr>\n",
       "    <tr>\n",
       "      <th>2</th>\n",
       "      <td>11500</td>\n",
       "      <td>5</td>\n",
       "      <td>759.0</td>\n",
       "      <td>5</td>\n",
       "      <td>22</td>\n",
       "    </tr>\n",
       "    <tr>\n",
       "      <th>3</th>\n",
       "      <td>20501</td>\n",
       "      <td>11</td>\n",
       "      <td>979.0</td>\n",
       "      <td>84</td>\n",
       "      <td>19</td>\n",
       "    </tr>\n",
       "    <tr>\n",
       "      <th>4</th>\n",
       "      <td>59000</td>\n",
       "      <td>46</td>\n",
       "      <td>1010.0</td>\n",
       "      <td>99</td>\n",
       "      <td>24</td>\n",
       "    </tr>\n",
       "  </tbody>\n",
       "</table>\n",
       "</div>"
      ],
      "text/plain": [
       "   Earnings  WeeksWorked  CumWeeksWorked  IQ  Esteem\n",
       "0         0            3           553.0   2      18\n",
       "1         0            3           107.0   9      20\n",
       "2     11500            5           759.0   5      22\n",
       "3     20501           11           979.0  84      19\n",
       "4     59000           46          1010.0  99      24"
      ]
     },
     "execution_count": 27,
     "metadata": {},
     "output_type": "execute_result"
    }
   ],
   "source": [
    "X = df[['Earnings', 'WeeksWorked', 'CumWeeksWorked', 'IQ', 'Esteem']]\n",
    "X[:5]"
   ]
  },
  {
   "cell_type": "code",
   "execution_count": 28,
   "metadata": {},
   "outputs": [
    {
     "data": {
      "text/plain": [
       "array([[-1.35969277, -1.72711477, -0.83501818, -1.54204602, -1.06873972],\n",
       "       [-1.35969277, -1.72711477, -2.65008139, -1.31067123, -0.56488416],\n",
       "       [-0.71183039, -1.62599593,  0.0033294 , -1.4428854 , -0.06102861],\n",
       "       [-0.20475133, -1.32263943,  0.89865206,  1.1683443 , -0.81681194],\n",
       "       [ 1.96412288,  0.44694016,  1.02481116,  1.6641474 ,  0.44282695]])"
      ]
     },
     "execution_count": 28,
     "metadata": {},
     "output_type": "execute_result"
    }
   ],
   "source": [
    "# Scale and center the data prior to applying PCA\n",
    "scaler = StandardScaler()\n",
    "X_scale = scaler.fit_transform(X)\n",
    "X_scale[:5]"
   ]
  },
  {
   "cell_type": "code",
   "execution_count": 29,
   "metadata": {},
   "outputs": [],
   "source": [
    "# Automate selecting dimensions that represent at least 80% of variance\n",
    "pca = PCA(n_components=0.8)\n",
    "X_reduced = pca.fit_transform(X_scale)"
   ]
  },
  {
   "cell_type": "code",
   "execution_count": 30,
   "metadata": {},
   "outputs": [
    {
     "name": "stdout",
     "output_type": "stream",
     "text": [
      "['0.45777', '0.21439', '0.17322']\n"
     ]
    }
   ],
   "source": [
    "# Get the explained amount of variation\n",
    "print([f'{x:.5f}' for x in pca.explained_variance_ratio_])"
   ]
  },
  {
   "cell_type": "markdown",
   "metadata": {},
   "source": [
    "## Exercise\n",
    "For Earnings, WeeksWorked, CumWeeksWorked, IQ, and Esteem, how many components are necessary to represent at least 90% of the variation?"
   ]
  },
  {
   "cell_type": "code",
   "execution_count": null,
   "metadata": {},
   "outputs": [],
   "source": []
  }
 ],
 "metadata": {
  "kernelspec": {
   "display_name": "Python 3",
   "language": "python",
   "name": "python3"
  },
  "language_info": {
   "codemirror_mode": {
    "name": "ipython",
    "version": 3
   },
   "file_extension": ".py",
   "mimetype": "text/x-python",
   "name": "python",
   "nbconvert_exporter": "python",
   "pygments_lexer": "ipython3",
   "version": "3.9.1"
  }
 },
 "nbformat": 4,
 "nbformat_minor": 4
}
