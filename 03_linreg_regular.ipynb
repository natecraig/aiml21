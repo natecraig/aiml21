{
 "cells": [
  {
   "cell_type": "markdown",
   "metadata": {},
   "source": [
    "# Regularized Linear Regression\n",
    "\n",
    "BUSMGT 7247"
   ]
  },
  {
   "cell_type": "markdown",
   "metadata": {},
   "source": [
    "## Load libraries and data"
   ]
  },
  {
   "cell_type": "code",
   "execution_count": 1,
   "metadata": {},
   "outputs": [],
   "source": [
    "%matplotlib inline\n",
    "\n",
    "import numpy as np\n",
    "import pandas as pd\n",
    "from pandas.plotting import scatter_matrix\n",
    "\n",
    "from sklearn.preprocessing import StandardScaler\n",
    "from sklearn.model_selection import train_test_split\n",
    "from sklearn.linear_model import (\n",
    "    LinearRegression, Ridge, Lasso, ElasticNet\n",
    ")\n",
    "from sklearn.metrics import mean_squared_error, r2_score\n",
    "\n",
    "import matplotlib as mpl\n",
    "import matplotlib.pyplot as plt\n",
    "\n",
    "# Make this notebook's output stable across runs\n",
    "np.random.seed(100)\n",
    "\n",
    "# Do not use scientific notation in pandas tables\n",
    "pd.options.display.float_format = '{:,.4f}'.format\n",
    "\n",
    "# Plot formatting\n",
    "mpl.rc('axes', labelsize=14)\n",
    "mpl.rc('xtick', labelsize=12)\n",
    "mpl.rc('ytick', labelsize=12)"
   ]
  },
  {
   "cell_type": "markdown",
   "metadata": {},
   "source": [
    "### Data Description\n",
    "\n",
    "When retailers close stores, they usually conduct going-out-of-business (GOB) sales.\n",
    "\n",
    "In the data set, each row represents a store's going out of business sale.\n",
    "\n",
    "| Attribute             | Definition                                                                |\n",
    "| --------------------- | ------------------------------------------------------------------------- |\n",
    "| StoreType             | Store's retail segment (bookstores or household goods)                    |\n",
    "| LiquidationRevenue    | Revenue from the GOB sale                                                 |\n",
    "| InventoryAtTicket     | Retail value of inventory held at the start of the GOB sale               |\n",
    "| LastYearRevenue       | Store's revenue over the GOB sale dates during the prior year             |                      \n",
    "| MedianHouseholdIncome | Median household income in the store's ZIP code (from U.S. Census Bureau) |\n",
    "| MedianAge             | Median age in the store's ZIP code (from U.S. Census Bureau)              |\n"
   ]
  },
  {
   "cell_type": "code",
   "execution_count": 2,
   "metadata": {},
   "outputs": [
    {
     "data": {
      "text/html": [
       "<div>\n",
       "<style scoped>\n",
       "    .dataframe tbody tr th:only-of-type {\n",
       "        vertical-align: middle;\n",
       "    }\n",
       "\n",
       "    .dataframe tbody tr th {\n",
       "        vertical-align: top;\n",
       "    }\n",
       "\n",
       "    .dataframe thead th {\n",
       "        text-align: right;\n",
       "    }\n",
       "</style>\n",
       "<table border=\"1\" class=\"dataframe\">\n",
       "  <thead>\n",
       "    <tr style=\"text-align: right;\">\n",
       "      <th></th>\n",
       "      <th>StoreType</th>\n",
       "      <th>LiquidationRevenue</th>\n",
       "      <th>InventoryAtTicket</th>\n",
       "      <th>LastYearRevenue</th>\n",
       "      <th>MedianHouseholdIncome</th>\n",
       "      <th>MedianAge</th>\n",
       "    </tr>\n",
       "  </thead>\n",
       "  <tbody>\n",
       "    <tr>\n",
       "      <th>0</th>\n",
       "      <td>Bookstore</td>\n",
       "      <td>1,214,776.2000</td>\n",
       "      <td>2,195,069.8000</td>\n",
       "      <td>465,237.3000</td>\n",
       "      <td>51290</td>\n",
       "      <td>37.8000</td>\n",
       "    </tr>\n",
       "    <tr>\n",
       "      <th>1</th>\n",
       "      <td>Bookstore</td>\n",
       "      <td>1,811,896.9000</td>\n",
       "      <td>3,152,301.9000</td>\n",
       "      <td>897,704.5000</td>\n",
       "      <td>46702</td>\n",
       "      <td>33.4000</td>\n",
       "    </tr>\n",
       "    <tr>\n",
       "      <th>2</th>\n",
       "      <td>Bookstore</td>\n",
       "      <td>1,157,614.7000</td>\n",
       "      <td>2,229,837.5000</td>\n",
       "      <td>477,804.8000</td>\n",
       "      <td>86804</td>\n",
       "      <td>41.7000</td>\n",
       "    </tr>\n",
       "    <tr>\n",
       "      <th>3</th>\n",
       "      <td>Bookstore</td>\n",
       "      <td>2,037,136.2000</td>\n",
       "      <td>3,857,466.8000</td>\n",
       "      <td>1,036,097.7000</td>\n",
       "      <td>83544</td>\n",
       "      <td>40.3000</td>\n",
       "    </tr>\n",
       "    <tr>\n",
       "      <th>4</th>\n",
       "      <td>Bookstore</td>\n",
       "      <td>1,326,821.1000</td>\n",
       "      <td>2,345,263.8000</td>\n",
       "      <td>612,793.5000</td>\n",
       "      <td>23508</td>\n",
       "      <td>31.9000</td>\n",
       "    </tr>\n",
       "  </tbody>\n",
       "</table>\n",
       "</div>"
      ],
      "text/plain": [
       "   StoreType  LiquidationRevenue  InventoryAtTicket  LastYearRevenue  \\\n",
       "0  Bookstore      1,214,776.2000     2,195,069.8000     465,237.3000   \n",
       "1  Bookstore      1,811,896.9000     3,152,301.9000     897,704.5000   \n",
       "2  Bookstore      1,157,614.7000     2,229,837.5000     477,804.8000   \n",
       "3  Bookstore      2,037,136.2000     3,857,466.8000   1,036,097.7000   \n",
       "4  Bookstore      1,326,821.1000     2,345,263.8000     612,793.5000   \n",
       "\n",
       "   MedianHouseholdIncome  MedianAge  \n",
       "0                  51290    37.8000  \n",
       "1                  46702    33.4000  \n",
       "2                  86804    41.7000  \n",
       "3                  83544    40.3000  \n",
       "4                  23508    31.9000  "
      ]
     },
     "execution_count": 2,
     "metadata": {},
     "output_type": "execute_result"
    }
   ],
   "source": [
    "df = pd.read_csv('data/closings.csv')\n",
    "df.head()"
   ]
  },
  {
   "cell_type": "markdown",
   "metadata": {},
   "source": [
    "## Model"
   ]
  },
  {
   "cell_type": "code",
   "execution_count": 3,
   "metadata": {},
   "outputs": [],
   "source": [
    "# Transform features\n",
    "df['Bookstore'] = df['StoreType'].apply(lambda x: 1 if x == 'Bookstore' else 0)\n",
    "df['BookstoreXInventoryAtTicket'] = df['Bookstore'] * df['InventoryAtTicket']\n",
    "\n",
    "# Add square and cube terms\n",
    "numvars = ['InventoryAtTicket', 'LastYearRevenue',\n",
    "          'MedianHouseholdIncome', 'MedianAge']\n",
    "for v in numvars:\n",
    "    df[v + 'Sq'] = df[v]**2\n",
    "    df[v + 'Cu'] = df[v]**3\n",
    "    \n",
    "# Fit a model that incorporates all variables\n",
    "y = df['LiquidationRevenue']\n",
    "\n",
    "feature_names = list(df.columns[2:])\n",
    "X = df[feature_names]\n",
    "\n",
    "# Scale data\n",
    "scaler = StandardScaler()\n",
    "X_scale = scaler.fit_transform(X)\n",
    "\n",
    "# Split data into training and test sets\n",
    "(X_train, X_test,\n",
    " y_train, y_test) = train_test_split(X_scale, y, test_size=0.75)"
   ]
  },
  {
   "cell_type": "code",
   "execution_count": 4,
   "metadata": {},
   "outputs": [],
   "source": [
    "# Fit a linear regresion\n",
    "linreg = LinearRegression()\n",
    "linreg.fit(X_train, y_train)\n",
    "y_pred = linreg.predict(X_test)"
   ]
  },
  {
   "cell_type": "code",
   "execution_count": 5,
   "metadata": {},
   "outputs": [],
   "source": [
    "# Retain coefficients and performance\n",
    "df_regs = pd.DataFrame(columns=['Intercept'] + feature_names + ['Test R2'])\n",
    "df_regs.loc['Linear'] = [linreg.intercept_] + list(linreg.coef_) + [r2_score(y_test, y_pred)]"
   ]
  },
  {
   "cell_type": "code",
   "execution_count": 6,
   "metadata": {},
   "outputs": [],
   "source": [
    "# Set regularization parameter for ridge, lasso, and elasticnet\n",
    "alpha=2\n",
    "l1_ratio=0.5"
   ]
  },
  {
   "cell_type": "markdown",
   "metadata": {},
   "source": [
    "### Ridge Regression"
   ]
  },
  {
   "cell_type": "code",
   "execution_count": 7,
   "metadata": {},
   "outputs": [],
   "source": [
    "ridge = Ridge(alpha=alpha)\n",
    "ridge.fit(X_train, y_train)\n",
    "y_pred = ridge.predict(X_test)\n",
    "\n",
    "df_regs.loc['Ridge'] = [ridge.intercept_] + list(ridge.coef_) + [r2_score(y_test, y_pred)]"
   ]
  },
  {
   "cell_type": "markdown",
   "metadata": {},
   "source": [
    "### LASSO Regression"
   ]
  },
  {
   "cell_type": "code",
   "execution_count": 8,
   "metadata": {},
   "outputs": [],
   "source": [
    "lasso = Lasso(alpha=alpha, max_iter=100000)\n",
    "lasso.fit(X_train, y_train)\n",
    "y_pred = lasso.predict(X_test)\n",
    "\n",
    "df_regs.loc['Lasso'] = [lasso.intercept_] + list(lasso.coef_) + [r2_score(y_test, y_pred)]"
   ]
  },
  {
   "cell_type": "markdown",
   "metadata": {},
   "source": [
    "### Elastic Net Regression"
   ]
  },
  {
   "cell_type": "code",
   "execution_count": 9,
   "metadata": {},
   "outputs": [],
   "source": [
    "elastic = ElasticNet(alpha=alpha, l1_ratio=l1_ratio)\n",
    "elastic.fit(X_train, y_train)\n",
    "y_pred = elastic.predict(X_test)\n",
    "\n",
    "df_regs.loc['ElasticNet'] = [elastic.intercept_] + list(elastic.coef_) + [r2_score(y_test, y_pred)]"
   ]
  },
  {
   "cell_type": "markdown",
   "metadata": {},
   "source": [
    "### Compare Regularization Methods"
   ]
  },
  {
   "cell_type": "code",
   "execution_count": 10,
   "metadata": {},
   "outputs": [
    {
     "data": {
      "text/html": [
       "<div>\n",
       "<style scoped>\n",
       "    .dataframe tbody tr th:only-of-type {\n",
       "        vertical-align: middle;\n",
       "    }\n",
       "\n",
       "    .dataframe tbody tr th {\n",
       "        vertical-align: top;\n",
       "    }\n",
       "\n",
       "    .dataframe thead th {\n",
       "        text-align: right;\n",
       "    }\n",
       "</style>\n",
       "<table border=\"1\" class=\"dataframe\">\n",
       "  <thead>\n",
       "    <tr style=\"text-align: right;\">\n",
       "      <th></th>\n",
       "      <th>Intercept</th>\n",
       "      <th>InventoryAtTicket</th>\n",
       "      <th>LastYearRevenue</th>\n",
       "      <th>MedianHouseholdIncome</th>\n",
       "      <th>MedianAge</th>\n",
       "      <th>Bookstore</th>\n",
       "      <th>BookstoreXInventoryAtTicket</th>\n",
       "      <th>InventoryAtTicketSq</th>\n",
       "      <th>InventoryAtTicketCu</th>\n",
       "      <th>LastYearRevenueSq</th>\n",
       "      <th>LastYearRevenueCu</th>\n",
       "      <th>MedianHouseholdIncomeSq</th>\n",
       "      <th>MedianHouseholdIncomeCu</th>\n",
       "      <th>MedianAgeSq</th>\n",
       "      <th>MedianAgeCu</th>\n",
       "      <th>Test R2</th>\n",
       "    </tr>\n",
       "  </thead>\n",
       "  <tbody>\n",
       "    <tr>\n",
       "      <th>Linear</th>\n",
       "      <td>1,743,761.2840</td>\n",
       "      <td>35,348.0193</td>\n",
       "      <td>-246,953.5007</td>\n",
       "      <td>58,268.4570</td>\n",
       "      <td>469,147.7064</td>\n",
       "      <td>14,585.7644</td>\n",
       "      <td>-44,139.9834</td>\n",
       "      <td>926,612.9399</td>\n",
       "      <td>-817,907.2647</td>\n",
       "      <td>1,472,339.8287</td>\n",
       "      <td>-949,232.6769</td>\n",
       "      <td>130,154.0345</td>\n",
       "      <td>-211,064.5441</td>\n",
       "      <td>-1,132,144.4842</td>\n",
       "      <td>648,109.2204</td>\n",
       "      <td>0.7625</td>\n",
       "    </tr>\n",
       "    <tr>\n",
       "      <th>Ridge</th>\n",
       "      <td>1,764,206.5118</td>\n",
       "      <td>179,118.0645</td>\n",
       "      <td>330,080.2278</td>\n",
       "      <td>109,552.8269</td>\n",
       "      <td>-26,683.2002</td>\n",
       "      <td>-84,362.7372</td>\n",
       "      <td>29,420.9039</td>\n",
       "      <td>48,720.5776</td>\n",
       "      <td>-58,982.1445</td>\n",
       "      <td>160,216.2384</td>\n",
       "      <td>-92,277.3346</td>\n",
       "      <td>-14,341.0543</td>\n",
       "      <td>-101,472.8931</td>\n",
       "      <td>-19,833.1823</td>\n",
       "      <td>-11,893.5960</td>\n",
       "      <td>0.9175</td>\n",
       "    </tr>\n",
       "    <tr>\n",
       "      <th>Lasso</th>\n",
       "      <td>1,743,993.2892</td>\n",
       "      <td>45,379.9223</td>\n",
       "      <td>-241,790.3816</td>\n",
       "      <td>60,757.1020</td>\n",
       "      <td>450,276.9896</td>\n",
       "      <td>13,279.3897</td>\n",
       "      <td>-42,947.4332</td>\n",
       "      <td>897,062.3850</td>\n",
       "      <td>-797,849.6432</td>\n",
       "      <td>1,462,975.9094</td>\n",
       "      <td>-944,056.4457</td>\n",
       "      <td>124,501.8914</td>\n",
       "      <td>-207,537.0434</td>\n",
       "      <td>-1,091,159.6461</td>\n",
       "      <td>624,791.8015</td>\n",
       "      <td>0.7656</td>\n",
       "    </tr>\n",
       "    <tr>\n",
       "      <th>ElasticNet</th>\n",
       "      <td>1,773,525.0702</td>\n",
       "      <td>84,469.7632</td>\n",
       "      <td>103,577.7075</td>\n",
       "      <td>12,258.2045</td>\n",
       "      <td>-8,922.1994</td>\n",
       "      <td>-79,634.1117</td>\n",
       "      <td>-58,469.6230</td>\n",
       "      <td>72,085.2462</td>\n",
       "      <td>58,621.5331</td>\n",
       "      <td>83,557.2852</td>\n",
       "      <td>56,460.6165</td>\n",
       "      <td>1,617.0178</td>\n",
       "      <td>-5,645.7604</td>\n",
       "      <td>-9,728.1085</td>\n",
       "      <td>-10,390.7233</td>\n",
       "      <td>0.8845</td>\n",
       "    </tr>\n",
       "  </tbody>\n",
       "</table>\n",
       "</div>"
      ],
      "text/plain": [
       "                Intercept  InventoryAtTicket  LastYearRevenue  \\\n",
       "Linear     1,743,761.2840        35,348.0193    -246,953.5007   \n",
       "Ridge      1,764,206.5118       179,118.0645     330,080.2278   \n",
       "Lasso      1,743,993.2892        45,379.9223    -241,790.3816   \n",
       "ElasticNet 1,773,525.0702        84,469.7632     103,577.7075   \n",
       "\n",
       "            MedianHouseholdIncome    MedianAge    Bookstore  \\\n",
       "Linear                58,268.4570 469,147.7064  14,585.7644   \n",
       "Ridge                109,552.8269 -26,683.2002 -84,362.7372   \n",
       "Lasso                 60,757.1020 450,276.9896  13,279.3897   \n",
       "ElasticNet            12,258.2045  -8,922.1994 -79,634.1117   \n",
       "\n",
       "            BookstoreXInventoryAtTicket  InventoryAtTicketSq  \\\n",
       "Linear                     -44,139.9834         926,612.9399   \n",
       "Ridge                       29,420.9039          48,720.5776   \n",
       "Lasso                      -42,947.4332         897,062.3850   \n",
       "ElasticNet                 -58,469.6230          72,085.2462   \n",
       "\n",
       "            InventoryAtTicketCu  LastYearRevenueSq  LastYearRevenueCu  \\\n",
       "Linear            -817,907.2647     1,472,339.8287      -949,232.6769   \n",
       "Ridge              -58,982.1445       160,216.2384       -92,277.3346   \n",
       "Lasso             -797,849.6432     1,462,975.9094      -944,056.4457   \n",
       "ElasticNet          58,621.5331        83,557.2852        56,460.6165   \n",
       "\n",
       "            MedianHouseholdIncomeSq  MedianHouseholdIncomeCu     MedianAgeSq  \\\n",
       "Linear                 130,154.0345            -211,064.5441 -1,132,144.4842   \n",
       "Ridge                  -14,341.0543            -101,472.8931    -19,833.1823   \n",
       "Lasso                  124,501.8914            -207,537.0434 -1,091,159.6461   \n",
       "ElasticNet               1,617.0178              -5,645.7604     -9,728.1085   \n",
       "\n",
       "            MedianAgeCu  Test R2  \n",
       "Linear     648,109.2204   0.7625  \n",
       "Ridge      -11,893.5960   0.9175  \n",
       "Lasso      624,791.8015   0.7656  \n",
       "ElasticNet -10,390.7233   0.8845  "
      ]
     },
     "execution_count": 10,
     "metadata": {},
     "output_type": "execute_result"
    }
   ],
   "source": [
    "df_regs"
   ]
  },
  {
   "cell_type": "code",
   "execution_count": null,
   "metadata": {},
   "outputs": [],
   "source": []
  }
 ],
 "metadata": {
  "kernelspec": {
   "display_name": "Python 3",
   "language": "python",
   "name": "python3"
  },
  "language_info": {
   "codemirror_mode": {
    "name": "ipython",
    "version": 3
   },
   "file_extension": ".py",
   "mimetype": "text/x-python",
   "name": "python",
   "nbconvert_exporter": "python",
   "pygments_lexer": "ipython3",
   "version": "3.9.1"
  }
 },
 "nbformat": 4,
 "nbformat_minor": 4
}
