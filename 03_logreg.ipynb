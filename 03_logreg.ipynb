{
 "cells": [
  {
   "cell_type": "markdown",
   "metadata": {},
   "source": [
    "# Logistic Regression\n",
    "\n",
    "BUSMGT 7247"
   ]
  },
  {
   "cell_type": "code",
   "execution_count": 1,
   "metadata": {},
   "outputs": [],
   "source": [
    "%matplotlib inline\n",
    "\n",
    "import numpy as np\n",
    "import pandas as pd\n",
    "import matplotlib as mpl\n",
    "import matplotlib.pyplot as plt\n",
    "from matplotlib.colors import ListedColormap\n",
    "\n",
    "from sklearn.preprocessing import LabelEncoder\n",
    "from sklearn.metrics import (accuracy_score, precision_score,\n",
    "                             recall_score, f1_score, confusion_matrix)\n",
    "from sklearn.model_selection import train_test_split\n",
    "from sklearn.linear_model import LogisticRegression\n",
    "\n",
    "# Options for plots\n",
    "%matplotlib inline\n",
    "mpl.rc('axes', labelsize=14)\n",
    "mpl.rc('xtick', labelsize=12)\n",
    "mpl.rc('ytick', labelsize=12)\n",
    "\n",
    "# Seed the random number generator for reproducible results\n",
    "random_state = 1000\n",
    "np.random.seed(random_state)"
   ]
  },
  {
   "cell_type": "code",
   "execution_count": 2,
   "metadata": {},
   "outputs": [],
   "source": [
    "def plot_decision_boundary(\n",
    "    clf, X, y, classes, features, xlims,\n",
    "    markers=['<', 'o', 's'],\n",
    "    markercolors=['darkgreen', 'navy', 'darkred'],\n",
    "    fillcolors=['lightgreen', 'cornflowerblue', 'lightcoral'],\n",
    "    steps=1000, alpha=0.2, figsize=(15, 6)\n",
    "):\n",
    "    x1, x2 = np.meshgrid (np.linspace(*xlims[0], steps).reshape(-1, 1),\n",
    "                          np.linspace(*xlims[1], steps).reshape(-1, 1))\n",
    "    \n",
    "    X_bound = np.c_[x1.ravel(), x2.ravel()]\n",
    "    y_pred = clf.predict(X_bound)\n",
    "    z = LabelEncoder().fit_transform(y_pred).reshape(x1.shape)\n",
    "    \n",
    "    plt.figure(figsize=figsize)\n",
    "    \n",
    "    for i, c in enumerate(classes):\n",
    "        plt.plot(X.loc[y == c, features[0]], X.loc[y == c, features[1]],\n",
    "                 color=markercolors[i], marker=markers[i],\n",
    "                 linestyle='none', label=c)\n",
    "    \n",
    "    plt.contourf(x1, x2, z, levels=len(classes) + 1,\n",
    "                 alpha=alpha, cmap=ListedColormap(fillcolors))\n",
    "   \n",
    "    plt.xlabel(features[0])\n",
    "    plt.ylabel(features[1])\n",
    "    plt.legend()\n",
    "    plt.show()"
   ]
  },
  {
   "cell_type": "markdown",
   "metadata": {},
   "source": [
    "## Load Data"
   ]
  },
  {
   "cell_type": "markdown",
   "metadata": {},
   "source": [
    "### Data Description\n",
    "\n",
    "The Bureau of Labor Statistics administers a National Longitudinal Survey of Youth that tracks individuals over the course of their lives.\n",
    "\n",
    "The 1979 (NLSY79) cohort includes men and women born in the USA between 1957 and 1964.\n",
    "\n",
    "In the data set, each row represents an individual that participates in the 1979 cohort.\n",
    "\n",
    "| Attribute      | Definition                                                                                   |\n",
    "| -------------- | -------------------------------------------------------------------------------------------- |\n",
    "| ID             | Participant identifier assigned by BLS                                                       |\n",
    "| Earnings       | Annual wage earnings 2014                                                                    |\n",
    "| WeeksWorked    | Count of weeks worked in 2014                                                                |\n",
    "| CumWeeksWorked | Cumulative weeks of work experience during study                                             |\n",
    "| Education      | Years of education as of 2014                                                                |\n",
    "| IQ             | Percentile on IQ test taken in 1979                                                          |\n",
    "| Gender         | Participant's gender                                                                         |\n",
    "| MSA            | Did the participant reside within an urban cluster or urbanized area in 2014?                |\n",
    "| Library        | Did the participant, or someone in the participant's household, have a library card in 1979? |\n",
    "| Esteem         | Score on the Rosenberg Self-Esteem Scale in 1979                                             |"
   ]
  },
  {
   "cell_type": "code",
   "execution_count": 6,
   "metadata": {},
   "outputs": [
    {
     "data": {
      "text/html": [
       "<div>\n",
       "<style scoped>\n",
       "    .dataframe tbody tr th:only-of-type {\n",
       "        vertical-align: middle;\n",
       "    }\n",
       "\n",
       "    .dataframe tbody tr th {\n",
       "        vertical-align: top;\n",
       "    }\n",
       "\n",
       "    .dataframe thead th {\n",
       "        text-align: right;\n",
       "    }\n",
       "</style>\n",
       "<table border=\"1\" class=\"dataframe\">\n",
       "  <thead>\n",
       "    <tr style=\"text-align: right;\">\n",
       "      <th></th>\n",
       "      <th>ID</th>\n",
       "      <th>Earnings</th>\n",
       "      <th>WeeksWorked</th>\n",
       "      <th>CumWeeksWorked</th>\n",
       "      <th>Education</th>\n",
       "      <th>IQ</th>\n",
       "      <th>Gender</th>\n",
       "      <th>MSA</th>\n",
       "      <th>Library</th>\n",
       "      <th>Esteem</th>\n",
       "    </tr>\n",
       "  </thead>\n",
       "  <tbody>\n",
       "    <tr>\n",
       "      <th>0</th>\n",
       "      <td>83</td>\n",
       "      <td>0</td>\n",
       "      <td>3</td>\n",
       "      <td>553.0</td>\n",
       "      <td>10</td>\n",
       "      <td>2</td>\n",
       "      <td>Male</td>\n",
       "      <td>Yes</td>\n",
       "      <td>Yes</td>\n",
       "      <td>18</td>\n",
       "    </tr>\n",
       "    <tr>\n",
       "      <th>1</th>\n",
       "      <td>84</td>\n",
       "      <td>0</td>\n",
       "      <td>3</td>\n",
       "      <td>107.0</td>\n",
       "      <td>12</td>\n",
       "      <td>9</td>\n",
       "      <td>Male</td>\n",
       "      <td>Yes</td>\n",
       "      <td>Yes</td>\n",
       "      <td>20</td>\n",
       "    </tr>\n",
       "    <tr>\n",
       "      <th>2</th>\n",
       "      <td>87</td>\n",
       "      <td>11500</td>\n",
       "      <td>5</td>\n",
       "      <td>759.0</td>\n",
       "      <td>12</td>\n",
       "      <td>5</td>\n",
       "      <td>Male</td>\n",
       "      <td>Yes</td>\n",
       "      <td>Yes</td>\n",
       "      <td>22</td>\n",
       "    </tr>\n",
       "    <tr>\n",
       "      <th>3</th>\n",
       "      <td>105</td>\n",
       "      <td>20501</td>\n",
       "      <td>11</td>\n",
       "      <td>979.0</td>\n",
       "      <td>12</td>\n",
       "      <td>84</td>\n",
       "      <td>Female</td>\n",
       "      <td>Yes</td>\n",
       "      <td>Yes</td>\n",
       "      <td>19</td>\n",
       "    </tr>\n",
       "    <tr>\n",
       "      <th>4</th>\n",
       "      <td>178</td>\n",
       "      <td>59000</td>\n",
       "      <td>46</td>\n",
       "      <td>1010.0</td>\n",
       "      <td>16</td>\n",
       "      <td>99</td>\n",
       "      <td>Male</td>\n",
       "      <td>No</td>\n",
       "      <td>Yes</td>\n",
       "      <td>24</td>\n",
       "    </tr>\n",
       "  </tbody>\n",
       "</table>\n",
       "</div>"
      ],
      "text/plain": [
       "    ID  Earnings  WeeksWorked  CumWeeksWorked  Education  IQ  Gender  MSA  \\\n",
       "0   83         0            3           553.0         10   2    Male  Yes   \n",
       "1   84         0            3           107.0         12   9    Male  Yes   \n",
       "2   87     11500            5           759.0         12   5    Male  Yes   \n",
       "3  105     20501           11           979.0         12  84  Female  Yes   \n",
       "4  178     59000           46          1010.0         16  99    Male   No   \n",
       "\n",
       "  Library  Esteem  \n",
       "0     Yes      18  \n",
       "1     Yes      20  \n",
       "2     Yes      22  \n",
       "3     Yes      19  \n",
       "4     Yes      24  "
      ]
     },
     "execution_count": 6,
     "metadata": {},
     "output_type": "execute_result"
    }
   ],
   "source": [
    "df = pd.read_csv('nlsy.csv')\n",
    "df.head()"
   ]
  },
  {
   "cell_type": "code",
   "execution_count": 5,
   "metadata": {},
   "outputs": [
    {
     "data": {
      "text/html": [
       "<div>\n",
       "<style scoped>\n",
       "    .dataframe tbody tr th:only-of-type {\n",
       "        vertical-align: middle;\n",
       "    }\n",
       "\n",
       "    .dataframe tbody tr th {\n",
       "        vertical-align: top;\n",
       "    }\n",
       "\n",
       "    .dataframe thead th {\n",
       "        text-align: right;\n",
       "    }\n",
       "</style>\n",
       "<table border=\"1\" class=\"dataframe\">\n",
       "  <thead>\n",
       "    <tr style=\"text-align: right;\">\n",
       "      <th></th>\n",
       "      <th>ID</th>\n",
       "      <th>Earnings</th>\n",
       "      <th>WeeksWorked</th>\n",
       "      <th>CumWeeksWorked</th>\n",
       "      <th>Education</th>\n",
       "      <th>IQ</th>\n",
       "      <th>Esteem</th>\n",
       "    </tr>\n",
       "  </thead>\n",
       "  <tbody>\n",
       "    <tr>\n",
       "      <th>count</th>\n",
       "      <td>1193.000000</td>\n",
       "      <td>1193.000000</td>\n",
       "      <td>1193.000000</td>\n",
       "      <td>1193.000000</td>\n",
       "      <td>1193.000000</td>\n",
       "      <td>1193.000000</td>\n",
       "      <td>1193.000000</td>\n",
       "    </tr>\n",
       "    <tr>\n",
       "      <th>mean</th>\n",
       "      <td>4703.199497</td>\n",
       "      <td>24135.476111</td>\n",
       "      <td>37.160101</td>\n",
       "      <td>758.181894</td>\n",
       "      <td>13.135792</td>\n",
       "      <td>48.652976</td>\n",
       "      <td>22.242246</td>\n",
       "    </tr>\n",
       "    <tr>\n",
       "      <th>std</th>\n",
       "      <td>3103.388264</td>\n",
       "      <td>17758.127806</td>\n",
       "      <td>19.787004</td>\n",
       "      <td>245.824519</td>\n",
       "      <td>2.012128</td>\n",
       "      <td>30.266633</td>\n",
       "      <td>3.971056</td>\n",
       "    </tr>\n",
       "    <tr>\n",
       "      <th>min</th>\n",
       "      <td>83.000000</td>\n",
       "      <td>0.000000</td>\n",
       "      <td>0.000000</td>\n",
       "      <td>0.000000</td>\n",
       "      <td>7.000000</td>\n",
       "      <td>1.000000</td>\n",
       "      <td>12.000000</td>\n",
       "    </tr>\n",
       "    <tr>\n",
       "      <th>25%</th>\n",
       "      <td>2210.000000</td>\n",
       "      <td>11300.000000</td>\n",
       "      <td>21.000000</td>\n",
       "      <td>641.000000</td>\n",
       "      <td>12.000000</td>\n",
       "      <td>21.000000</td>\n",
       "      <td>19.000000</td>\n",
       "    </tr>\n",
       "    <tr>\n",
       "      <th>50%</th>\n",
       "      <td>4068.000000</td>\n",
       "      <td>21500.000000</td>\n",
       "      <td>51.000000</td>\n",
       "      <td>822.000000</td>\n",
       "      <td>12.000000</td>\n",
       "      <td>48.000000</td>\n",
       "      <td>22.000000</td>\n",
       "    </tr>\n",
       "    <tr>\n",
       "      <th>75%</th>\n",
       "      <td>6885.000000</td>\n",
       "      <td>35000.000000</td>\n",
       "      <td>52.000000</td>\n",
       "      <td>941.000000</td>\n",
       "      <td>14.000000</td>\n",
       "      <td>75.000000</td>\n",
       "      <td>25.000000</td>\n",
       "    </tr>\n",
       "    <tr>\n",
       "      <th>max</th>\n",
       "      <td>12303.000000</td>\n",
       "      <td>88000.000000</td>\n",
       "      <td>52.000000</td>\n",
       "      <td>1079.000000</td>\n",
       "      <td>20.000000</td>\n",
       "      <td>99.000000</td>\n",
       "      <td>30.000000</td>\n",
       "    </tr>\n",
       "  </tbody>\n",
       "</table>\n",
       "</div>"
      ],
      "text/plain": [
       "                 ID      Earnings  WeeksWorked  CumWeeksWorked    Education  \\\n",
       "count   1193.000000   1193.000000  1193.000000     1193.000000  1193.000000   \n",
       "mean    4703.199497  24135.476111    37.160101      758.181894    13.135792   \n",
       "std     3103.388264  17758.127806    19.787004      245.824519     2.012128   \n",
       "min       83.000000      0.000000     0.000000        0.000000     7.000000   \n",
       "25%     2210.000000  11300.000000    21.000000      641.000000    12.000000   \n",
       "50%     4068.000000  21500.000000    51.000000      822.000000    12.000000   \n",
       "75%     6885.000000  35000.000000    52.000000      941.000000    14.000000   \n",
       "max    12303.000000  88000.000000    52.000000     1079.000000    20.000000   \n",
       "\n",
       "                IQ       Esteem  \n",
       "count  1193.000000  1193.000000  \n",
       "mean     48.652976    22.242246  \n",
       "std      30.266633     3.971056  \n",
       "min       1.000000    12.000000  \n",
       "25%      21.000000    19.000000  \n",
       "50%      48.000000    22.000000  \n",
       "75%      75.000000    25.000000  \n",
       "max      99.000000    30.000000  "
      ]
     },
     "execution_count": 5,
     "metadata": {},
     "output_type": "execute_result"
    }
   ],
   "source": [
    "df.describe()"
   ]
  },
  {
   "cell_type": "markdown",
   "metadata": {},
   "source": [
    "## Logistic Regression: Higher Education"
   ]
  },
  {
   "cell_type": "code",
   "execution_count": 8,
   "metadata": {},
   "outputs": [
    {
     "data": {
      "text/plain": [
       "0    0.830679\n",
       "1    0.169321\n",
       "Name: HigherEdCategory, dtype: float64"
      ]
     },
     "execution_count": 8,
     "metadata": {},
     "output_type": "execute_result"
    }
   ],
   "source": [
    "# Return indicator of education category as a function of years of education\n",
    "def higher_ed_category(years_education):\n",
    "    if years_education >= 16:\n",
    "        return 1\n",
    "    else:\n",
    "        return 0\n",
    "    \n",
    "# Create a variable to contain each participant's education category    \n",
    "df['HigherEdCategory'] = df['Education'].apply(higher_ed_category)\n",
    "df['HigherEdCategory'].value_counts(normalize=True)"
   ]
  },
  {
   "cell_type": "code",
   "execution_count": 9,
   "metadata": {},
   "outputs": [
    {
     "data": {
      "text/plain": [
       "LogisticRegression(random_state=1000)"
      ]
     },
     "execution_count": 9,
     "metadata": {},
     "output_type": "execute_result"
    }
   ],
   "source": [
    "# Predict HigherEdCategory as a function of Earnings and WeeksWorked\n",
    "X = df[['Earnings', 'WeeksWorked']]\n",
    "y = df['HigherEdCategory']\n",
    "\n",
    "# Split data into training and testing sets\n",
    "(X_train, X_test, \n",
    " y_train, y_test) = train_test_split(X, y, test_size=0.25,\n",
    "                                     stratify=y, random_state=random_state)\n",
    "\n",
    "log_clf = LogisticRegression(random_state=random_state)\n",
    "log_clf.fit(X_train, y_train)"
   ]
  },
  {
   "cell_type": "code",
   "execution_count": 10,
   "metadata": {},
   "outputs": [
    {
     "name": "stdout",
     "output_type": "stream",
     "text": [
      "Intercept:   -6.182\n",
      "Earnings:     0.000217\n",
      "WeeksWorked: -0.071981\n",
      "\n",
      "Probability of (y = 1): 0.839\n",
      "Odds ratio:             5.208\n",
      "Log odds:               1.650\n",
      "Linear model:           1.650\n"
     ]
    }
   ],
   "source": [
    "# Calculate log odds and odds ratio\n",
    "intercept = log_clf.intercept_[0]\n",
    "coef = log_clf.coef_[0]\n",
    "\n",
    "print(f'Intercept:   {intercept:.3f}\\n'\n",
    "      f'Earnings:     {coef[0]:.6f}\\n'\n",
    "      f'WeeksWorked: {coef[1]:.6f}\\n')\n",
    "\n",
    "x_earn = df['Earnings'].quantile(0.85)  # Gets the 85th percentile\n",
    "x_weeks = df['WeeksWorked'].quantile(0.25)\n",
    "\n",
    "proba = log_clf.predict_proba([[x_earn, x_weeks]])[0, 1]\n",
    "oddsratio = proba / (1 - proba)\n",
    "logodds = np.log(oddsratio)\n",
    "linear_model = intercept + (coef[0] * x_earn) + (coef[1] * x_weeks)\n",
    "\n",
    "print(f'Probability of (y = 1): {proba:.3f}\\n'\n",
    "      f'Odds ratio:             {oddsratio:.3f}\\n'\n",
    "      f'Log odds:               {logodds:.3f}\\n'\n",
    "      f'Linear model:           {linear_model:.3f}')"
   ]
  },
  {
   "cell_type": "code",
   "execution_count": 11,
   "metadata": {},
   "outputs": [
    {
     "name": "stdout",
     "output_type": "stream",
     "text": [
      "Accuracy:  0.933\n",
      "Precision: 0.830\n",
      "Recall:    0.765\n",
      "F1:        0.796\n"
     ]
    }
   ],
   "source": [
    "# Evaluate on the training data\n",
    "y_pred = log_clf.predict(X_test)\n",
    "print(f'Accuracy:  {accuracy_score(y_test, y_pred):.3f}\\n'\n",
    "      f'Precision: {precision_score(y_test, y_pred):.3f}\\n'\n",
    "      f'Recall:    {recall_score(y_test, y_pred):.3f}\\n'\n",
    "      f'F1:        {f1_score(y_test, y_pred):.3f}')\n",
    "\n",
    "# Note: F1 score combines precision and recall,\n",
    "# where F1 = 2 * (precision * recall) / (precision + recall)"
   ]
  },
  {
   "cell_type": "code",
   "execution_count": 12,
   "metadata": {},
   "outputs": [
    {
     "data": {
      "image/png": "[encoded data removed]",
      "text/plain": [
       "<Figure size 720x432 with 2 Axes>"
      ]
     },
     "metadata": {
      "needs_background": "light"
     },
     "output_type": "display_data"
    }
   ],
   "source": [
    "# Visualize the model's decision boundary for earnings\n",
    "nrow = 1000\n",
    "\n",
    "weeks_low = df['WeeksWorked'].quantile(0.25)\n",
    "weeks_high = df['WeeksWorked'].quantile(0.75)\n",
    "\n",
    "earnings = np.linspace(df['Earnings'].min(), df['Earnings'].max(), nrow)\n",
    "\n",
    "X_weeks_low = np.column_stack((earnings, weeks_low * np.ones(nrow)))\n",
    "X_weeks_high = np.column_stack((earnings, weeks_high * np.ones(nrow)))\n",
    "\n",
    "y_proba_weeks_low = log_clf.predict_proba(X_weeks_low)\n",
    "y_proba_weeks_high = log_clf.predict_proba(X_weeks_high)\n",
    "\n",
    "fig, ax = plt.subplots(1, 2, figsize=(10, 6), sharey=True)\n",
    "ha = ax[0].plot(earnings, y_proba_weeks_low[:, 0], 'b', linewidth=2, \n",
    "                label='HigherEd = 0')\n",
    "hb = ax[0].plot(earnings, y_proba_weeks_low[:, 1], 'g', linewidth=2, \n",
    "                label='HigherEd = 1')\n",
    "ax[0].set_xlabel('Earnings')\n",
    "ax[0].set_ylabel('Probability')\n",
    "ax[0].set_title('Weeks Worked 25th Percentile')\n",
    "\n",
    "ax[1].plot(earnings, y_proba_weeks_high[:, 0], 'b', linewidth=2, \n",
    "           label='HigherEd = 0')\n",
    "ax[1].plot(earnings, y_proba_weeks_high[:, 1], 'g', linewidth=2, \n",
    "           label='HigherEd = 1')\n",
    "ax[1].set_xlabel('Earnings')\n",
    "ax[1].set_title('Weeks Worked 75th Percentile')\n",
    "\n",
    "fig.legend(*ax[0].get_legend_handles_labels(), \n",
    "           bbox_to_anchor=(1.1, 0.5), loc='center right')\n",
    "plt.show()"
   ]
  },
  {
   "cell_type": "markdown",
   "metadata": {},
   "source": [
    "### Exercise\n",
    "Add other variables to the model, and track how the model changes."
   ]
  },
  {
   "cell_type": "markdown",
   "metadata": {},
   "source": []
  },
  {
   "cell_type": "markdown",
   "metadata": {},
   "source": [
    "## Multinomial Regression: Education Categories"
   ]
  },
  {
   "cell_type": "code",
   "execution_count": 13,
   "metadata": {},
   "outputs": [
    {
     "data": {
      "text/plain": [
       "High School      0.830679\n",
       "Undergraduate    0.113160\n",
       "Graduate         0.056161\n",
       "Name: EducationCategory, dtype: float64"
      ]
     },
     "execution_count": 13,
     "metadata": {},
     "output_type": "execute_result"
    }
   ],
   "source": [
    "# Return index of education category as a function of years of education\n",
    "def education_category(years_education):\n",
    "    if years_education < 16:\n",
    "        return 'High School'\n",
    "    elif years_education == 16:\n",
    "        return 'Undergraduate'\n",
    "    else:\n",
    "        return 'Graduate'\n",
    "\n",
    "    \n",
    "# Create a variable to contain each participant's education category    \n",
    "df['EducationCategory'] = df['Education'].apply(education_category)\n",
    "df['EducationCategory'].value_counts(normalize=True)"
   ]
  },
  {
   "cell_type": "code",
   "execution_count": 27,
   "metadata": {},
   "outputs": [
    {
     "data": {
      "text/plain": [
       "LogisticRegression(C=2, multi_class='multinomial', random_state=1000)"
      ]
     },
     "execution_count": 27,
     "metadata": {},
     "output_type": "execute_result"
    }
   ],
   "source": [
    "# Predict EducationCategory as a function of Earnings and WeeksWorked\n",
    "df['EarningsSq'] = np.power(df['Earnings'], 2)\n",
    "X = df[['Earnings', 'WeeksWorked']]\n",
    "y = df['EducationCategory']\n",
    "\n",
    "# Split data into training and testing sets\n",
    "(X_train, X_test, \n",
    " y_train, y_test) = train_test_split(X, y, test_size=0.25,\n",
    "                                     stratify=y, random_state=random_state)\n",
    "\n",
    "softmax_clf = LogisticRegression(multi_class='multinomial', random_state=random_state,\n",
    "                                 solver='lbfgs', C=2)\n",
    "softmax_clf.fit(X_train, y_train)"
   ]
  },
  {
   "cell_type": "code",
   "execution_count": 28,
   "metadata": {},
   "outputs": [
    {
     "name": "stdout",
     "output_type": "stream",
     "text": [
      "Accuracy:  0.749\n"
     ]
    }
   ],
   "source": [
    "# Evaluate on the training data\n",
    "y_pred = softmax_clf.predict(X_test)\n",
    "print(f'Accuracy:  {accuracy_score(y_test, y_pred):.3f}')"
   ]
  },
  {
   "cell_type": "code",
   "execution_count": 29,
   "metadata": {},
   "outputs": [
    {
     "name": "stdout",
     "output_type": "stream",
     "text": [
      "Classes: Graduate, High School, and Undergraduate\n"
     ]
    },
    {
     "data": {
      "text/plain": [
       "array([[  1,   5,  11],\n",
       "       [ 24, 216,   8],\n",
       "       [ 12,  15,   7]])"
      ]
     },
     "execution_count": 29,
     "metadata": {},
     "output_type": "execute_result"
    }
   ],
   "source": [
    "# Note: the first row in the output tallies the predicted classes\n",
    "# for instances of the first actual class\n",
    "print('Classes: Graduate, High School, and Undergraduate')\n",
    "confusion_matrix(y_test, y_pred)"
   ]
  },
  {
   "cell_type": "code",
   "execution_count": 30,
   "metadata": {},
   "outputs": [
    {
     "data": {
      "image/png": "[encoded data removed]",
      "text/plain": [
       "<Figure size 1080x432 with 1 Axes>"
      ]
     },
     "metadata": {
      "needs_background": "light"
     },
     "output_type": "display_data"
    }
   ],
   "source": [
    "# Visualize decision boundaries\n",
    "xlims = [\n",
    "    [df['Earnings'].min(), df['Earnings'].max()],\n",
    "    [df['WeeksWorked'].min(), df['WeeksWorked'].max()]\n",
    "]\n",
    "\n",
    "plot_decision_boundary(softmax_clf, X_test, y_test,\n",
    "                       classes=['Graduate', 'High School', 'Undergraduate'],\n",
    "                       features=['Earnings', 'WeeksWorked'],\n",
    "                       xlims=xlims)                                           "
   ]
  },
  {
   "cell_type": "markdown",
   "metadata": {},
   "source": [
    "### Exercise\n",
    "Add other variables to the model. How does performance change as you incorporate new features?"
   ]
  },
  {
   "cell_type": "code",
   "execution_count": null,
   "metadata": {},
   "outputs": [],
   "source": []
  }
 ],
 "metadata": {
  "kernelspec": {
   "display_name": "Python 3",
   "language": "python",
   "name": "python3"
  },
  "language_info": {
   "codemirror_mode": {
    "name": "ipython",
    "version": 3
   },
   "file_extension": ".py",
   "mimetype": "text/x-python",
   "name": "python",
   "nbconvert_exporter": "python",
   "pygments_lexer": "ipython3",
   "version": "3.9.1"
  }
 },
 "nbformat": 4,
 "nbformat_minor": 4
}
